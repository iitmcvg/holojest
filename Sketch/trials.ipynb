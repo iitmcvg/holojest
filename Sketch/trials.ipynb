{
 "cells": [
  {
   "cell_type": "code",
   "execution_count": null,
   "metadata": {},
   "outputs": [],
   "source": [
    "import tensorflow as tf\n",
    "import numpy as np\n",
    "import os\n",
    "import cv2"
   ]
  },
  {
   "cell_type": "code",
   "execution_count": null,
   "metadata": {},
   "outputs": [],
   "source": [
    "import config\n",
    "config.init()"
   ]
  },
  {
   "cell_type": "code",
   "execution_count": null,
   "metadata": {},
   "outputs": [],
   "source": [
    "import model\n",
    "import loss\n",
    "import data\n",
    "import config\n",
    "import importlib"
   ]
  },
  {
   "cell_type": "code",
   "execution_count": null,
   "metadata": {},
   "outputs": [],
   "source": [
    "importlib.reload(loss)\n",
    "importlib.reload(data)\n",
    "importlib.reload(model)\n",
    "importlib.reload(config)\n",
    "\n",
    "\n",
    "\n",
    "main_dir=config.main_dir\n",
    "training_iter=config.training_iter\n",
    "batch_size=config.batch_size\n",
    "learning_rate=config.learning_rate\n",
    "name_list_path=config.name_list_path\n",
    "\n",
    "name_list=data.file_to_list(name_list_path)\n",
    "print(name_list)\n",
    "\n"
   ]
  },
  {
   "cell_type": "code",
   "execution_count": null,
   "metadata": {},
   "outputs": [],
   "source": [
    "\n",
    "source_iterator,target_iterator=data.load_data(name_list,batched=True)\n",
    "source=source_iterator.get_next()\n",
    "target=target_iterator.get_next()\n",
    "    "
   ]
  },
  {
   "cell_type": "code",
   "execution_count": null,
   "metadata": {},
   "outputs": [],
   "source": [
    "pred=model.encoderNdecoder(source)\n",
    "cost=loss.total_loss(pred,target)\n",
    "accuracy,_=tf.metrics.accuracy(labels=target_next,predictions=pred)\n",
    "optimizer=tf.train.AdamOptimizer(learning_rate=learning_rate).minimize(cost)"
   ]
  },
  {
   "cell_type": "code",
   "execution_count": null,
   "metadata": {},
   "outputs": [],
   "source": []
  },
  {
   "cell_type": "code",
   "execution_count": null,
   "metadata": {},
   "outputs": [],
   "source": []
  },
  {
   "cell_type": "code",
   "execution_count": null,
   "metadata": {},
   "outputs": [],
   "source": [
    "# images=tf.placeholder(\"float\",shape=[None,256,256,2])\n",
    "# truth=tf.placeholder(\"float\",shape=[None,12,256,256,5])\n",
    "\n",
    "# pred=model.encoderNdecoder(images)\n",
    "# cost=loss.total_loss(pred,truth)\n",
    "# optimizer=tf.train.AdamOptimizer(learning_rate=learning_rate).minimize(cost)\n",
    "# init=tf.global_variables_initializer()\n",
    "\n",
    "# with tf.Session() as sess:\n",
    "#     sess.run(init)\n",
    "#     for i in range(training_iter):\n",
    "#         for batch in range(len(name_list)//batch_size):\n",
    "#             batch_list=name_list[batch*batch_size:min((batch+1)*batch_size,len(name_list))]\n",
    "#             batch_x=list(map(data.get_subject_source,batch_list))\n",
    "#             batch_y=list(map(data.get_subject_target,batch_list))\n",
    "#             opt=sess.run(optimizer,feed_dict={images:batch_x,truth:batch_y})\n",
    "#             loss=sess.run(cost,feed_dict={images:batch_x,truth:batch_y})\n",
    "#         print(\"iter \"+str(i)+\" loss ={:.6f}\".format(loss))"
   ]
  },
  {
   "cell_type": "code",
   "execution_count": null,
   "metadata": {},
   "outputs": [],
   "source": []
  }
 ],
 "metadata": {
  "kernelspec": {
   "display_name": "Python 3",
   "language": "python",
   "name": "python3"
  },
  "language_info": {
   "codemirror_mode": {
    "name": "ipython",
    "version": 3
   },
   "file_extension": ".py",
   "mimetype": "text/x-python",
   "name": "python",
   "nbconvert_exporter": "python",
   "pygments_lexer": "ipython3",
   "version": "3.6.5"
  }
 },
 "nbformat": 4,
 "nbformat_minor": 2
}
