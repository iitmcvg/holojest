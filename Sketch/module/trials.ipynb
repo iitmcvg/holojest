{
 "cells": [
  {
   "cell_type": "code",
   "execution_count": 1,
   "metadata": {},
   "outputs": [
    {
     "name": "stderr",
     "output_type": "stream",
     "text": [
      "/home/vishnu/anaconda3/lib/python3.6/site-packages/h5py/__init__.py:36: FutureWarning: Conversion of the second argument of issubdtype from `float` to `np.floating` is deprecated. In future, it will be treated as `np.float64 == np.dtype(float).type`.\n",
      "  from ._conv import register_converters as _register_converters\n"
     ]
    }
   ],
   "source": [
    "import tensorflow as tf\n",
    "import numpy as np\n",
    "import os\n",
    "import cv2\n",
    "import time"
   ]
  },
  {
   "cell_type": "code",
   "execution_count": 2,
   "metadata": {},
   "outputs": [],
   "source": [
    "import config\n",
    "config.init()"
   ]
  },
  {
   "cell_type": "code",
   "execution_count": 3,
   "metadata": {},
   "outputs": [],
   "source": [
    "import model\n",
    "import loss\n",
    "import data\n",
    "import config\n",
    "import importlib"
   ]
  },
  {
   "cell_type": "code",
   "execution_count": 4,
   "metadata": {},
   "outputs": [
    {
     "name": "stdout",
     "output_type": "stream",
     "text": [
      "No: of files : 4\n",
      "['00044_Ichigo' '00045_aaroniero' '00047_Aizen' '00048_Grimmjow']\n"
     ]
    }
   ],
   "source": [
    "importlib.reload(loss)\n",
    "importlib.reload(data)\n",
    "importlib.reload(model)\n",
    "importlib.reload(config)\n",
    "\n",
    "\n",
    "\n",
    "main_dir=config.main_dir\n",
    "training_iter=config.training_iter\n",
    "batch_size=config.batch_size\n",
    "learning_rate=config.learning_rate\n",
    "name_list_path=config.name_list_path\n",
    "\n",
    "name_list=data.file_to_list(name_list_path)\n",
    "print(name_list)\n",
    "\n"
   ]
  },
  {
   "cell_type": "code",
   "execution_count": 5,
   "metadata": {},
   "outputs": [
    {
     "name": "stdout",
     "output_type": "stream",
     "text": [
      "(?, 12, 256, 256, 5)\n"
     ]
    }
   ],
   "source": [
    "source_iterator,target_iterator=data.load_data(name_list)\n",
    "source=source_iterator.get_next()\n",
    "target=target_iterator.get_next()\n",
    "\n",
    "pred=model.encoderNdecoder(source)\n",
    "cost=loss.total_loss(pred,target)\n",
    "accuracy,_=tf.metrics.accuracy(labels=target,predictions=pred)\n",
    "optimizer=tf.train.AdamOptimizer(learning_rate=learning_rate).minimize(cost)\n",
    "init=tf.global_variables_initializer()\n",
    "linit=tf.local_variables_initializer()"
   ]
  },
  {
   "cell_type": "code",
   "execution_count": null,
   "metadata": {},
   "outputs": [
    {
     "name": "stdout",
     "output_type": "stream",
     "text": [
      "Starting epoch 1\n",
      "training batch 1 .....\n",
      "reading data of 00044_Ichigo \n"
     ]
    }
   ],
   "source": [
    "with tf.Session() as sess:\n",
    "    sess.run(init)\n",
    "    sess.run(linit)\n",
    "    for epoch in range(training_iter):\n",
    "        tic=time.clock()\n",
    "        print(\"Starting epoch {}\".format(epoch+1))\n",
    "        sess.run(source_iterator.initializer)\n",
    "        sess.run(target_iterator.initializer)\n",
    "\n",
    "        for batch in range((name_list.shape[0]//batch_size)+1):\n",
    "            print(\"training batch {} .....\".format(batch+1))\n",
    "            l=sess.run(cost)\n",
    "            opt=sess.run(optimizer)\n",
    "            acc=sess.run(accuracy)\n",
    "        print()\n",
    "        print(\"Epoch {} summary\".format(epoch +1 ))\n",
    "        print(\"loss = {} \".format(l))\n",
    "        toc=time.clock()\n",
    "        print(\"Time taken :{}\".format((toc-tic)/60))"
   ]
  },
  {
   "cell_type": "code",
   "execution_count": null,
   "metadata": {},
   "outputs": [],
   "source": []
  }
 ],
 "metadata": {
  "kernelspec": {
   "display_name": "Python 3",
   "language": "python",
   "name": "python3"
  },
  "language_info": {
   "codemirror_mode": {
    "name": "ipython",
    "version": 3
   },
   "file_extension": ".py",
   "mimetype": "text/x-python",
   "name": "python",
   "nbconvert_exporter": "python",
   "pygments_lexer": "ipython3",
   "version": "3.6.5"
  }
 },
 "nbformat": 4,
 "nbformat_minor": 2
}
